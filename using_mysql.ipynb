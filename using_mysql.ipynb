{
 "cells": [
  {
   "cell_type": "code",
   "execution_count": 1,
   "id": "34475077",
   "metadata": {},
   "outputs": [],
   "source": [
    "import mysql.connector\n",
    "import pprint\n",
    "from mysql.connector.constants import ClientFlag\n",
    "from mysql.connector.conversion import MySQLConverter\n",
    "import pandas as pd"
   ]
  },
  {
   "cell_type": "code",
   "execution_count": 2,
   "id": "20d6e894",
   "metadata": {},
   "outputs": [
    {
     "name": "stdout",
     "output_type": "stream",
     "text": [
      "MySQL Connector Python version:  8.0.26\n",
      "\n",
      "API level : 2.0\n",
      "\n",
      "Parameter style: pyformat\n"
     ]
    }
   ],
   "source": [
    "# check mysql connector version, API level, parameter style\n",
    "mysql_version = mysql.connector.__version__ \n",
    "api_level = mysql.connector.apilevel\n",
    "param_style = mysql.connector.paramstyle\n",
    "\n",
    "\n",
    "print(\"MySQL Connector Python version: \",mysql_version )\n",
    "print(\"\\nAPI level :\", api_level)\n",
    "print(\"\\nParameter style:\",param_style)"
   ]
  },
  {
   "cell_type": "code",
   "execution_count": 3,
   "id": "fe9deea4",
   "metadata": {},
   "outputs": [
    {
     "name": "stdout",
     "output_type": "stream",
     "text": [
      "Connection ID: 174\n"
     ]
    }
   ],
   "source": [
    "# connect mysql using configuration file\n",
    "db = mysql.connector.connect(option_files=\"/home/kishor/sql/nb/my.ini\")\n",
    "connection_id = db.connection_id\n",
    "print(\"Connection ID:\",connection_id  )"
   ]
  },
  {
   "cell_type": "code",
   "execution_count": 4,
   "id": "73e2caf3",
   "metadata": {},
   "outputs": [
    {
     "name": "stdout",
     "output_type": "stream",
     "text": [
      "Result from World Dictionary\n",
      "===================================\n",
      "{'columns': [('ID', 3, None, None, None, None, 0, 49667),\n",
      "             ('Name', 254, None, None, None, None, 0, 1),\n",
      "             ('CountryCode', 254, None, None, None, None, 0, 16393),\n",
      "             ('District', 254, None, None, None, None, 0, 1),\n",
      "             ('Population', 3, None, None, None, None, 0, 32769)],\n",
      " 'eof': {'status_flag': 16385, 'warning_count': 0}}\n"
     ]
    }
   ],
   "source": [
    "printer = pprint.PrettyPrinter(indent=1)\n",
    "# download world.sql data\n",
    "#https://dev.mysql.com/doc/index-other.html\n",
    "# Query\n",
    "res = db.cmd_query(\"\"\"SELECT * FROM world.city WHERE ID = 5\"\"\")\n",
    "\n",
    "print(\"Result from World Dictionary\\n\" + \"=\"*35)\n",
    "printer.pprint(res)"
   ]
  },
  {
   "cell_type": "code",
   "execution_count": 5,
   "id": "3ac7655a",
   "metadata": {},
   "outputs": [
    {
     "name": "stdout",
     "output_type": "stream",
     "text": [
      "\n",
      "-----------------------------------------------\n",
      "City                      Country   Population\n",
      "-----------------------------------------------\n",
      "Mumbai (Bombay)             IND     10.50\n",
      "Seoul                       KOR     9.98\n",
      "São Paulo                   BRA     9.97\n",
      "Shanghai                    CHN     9.70\n",
      "Jakarta                     IDN     9.60\n",
      "Karachi                     PAK     9.27\n",
      "Istanbul                    TUR     8.79\n",
      "Ciudad de México            MEX     8.59\n",
      "Moscow                      RUS     8.39\n",
      "New York                    USA     8.01\n",
      "Tokyo                       JPN     7.98\n",
      "Peking                      CHN     7.47\n",
      "London                      GBR     7.29\n",
      "Delhi                       IND     7.21\n",
      "Cairo                       EGY     6.79\n",
      "Teheran                     IRN     6.76\n",
      "Lima                        PER     6.46\n",
      "Chongqing                   CHN     6.35\n",
      "Bangkok                     THA     6.32\n",
      "Santafé de Bogotá           COL     6.26\n",
      "Rio de Janeiro              BRA     5.60\n",
      "Tianjin                     CHN     5.29\n",
      "Kinshasa                    COD     5.06\n",
      "Lahore                      PAK     5.06\n",
      "-----------------------------------------------\n"
     ]
    },
    {
     "data": {
      "text/html": [
       "<div>\n",
       "<style scoped>\n",
       "    .dataframe tbody tr th:only-of-type {\n",
       "        vertical-align: middle;\n",
       "    }\n",
       "\n",
       "    .dataframe tbody tr th {\n",
       "        vertical-align: top;\n",
       "    }\n",
       "\n",
       "    .dataframe thead th {\n",
       "        text-align: right;\n",
       "    }\n",
       "</style>\n",
       "<table border=\"1\" class=\"dataframe\">\n",
       "  <thead>\n",
       "    <tr style=\"text-align: right;\">\n",
       "      <th></th>\n",
       "      <th>City</th>\n",
       "      <th>Country</th>\n",
       "      <th>Population</th>\n",
       "    </tr>\n",
       "  </thead>\n",
       "  <tbody>\n",
       "    <tr>\n",
       "      <th>0</th>\n",
       "      <td>Mumbai (Bombay)</td>\n",
       "      <td>IND</td>\n",
       "      <td>10500000</td>\n",
       "    </tr>\n",
       "    <tr>\n",
       "      <th>1</th>\n",
       "      <td>Seoul</td>\n",
       "      <td>KOR</td>\n",
       "      <td>9981619</td>\n",
       "    </tr>\n",
       "    <tr>\n",
       "      <th>2</th>\n",
       "      <td>São Paulo</td>\n",
       "      <td>BRA</td>\n",
       "      <td>9968485</td>\n",
       "    </tr>\n",
       "    <tr>\n",
       "      <th>3</th>\n",
       "      <td>Shanghai</td>\n",
       "      <td>CHN</td>\n",
       "      <td>9696300</td>\n",
       "    </tr>\n",
       "    <tr>\n",
       "      <th>4</th>\n",
       "      <td>Jakarta</td>\n",
       "      <td>IDN</td>\n",
       "      <td>9604900</td>\n",
       "    </tr>\n",
       "  </tbody>\n",
       "</table>\n",
       "</div>"
      ],
      "text/plain": [
       "              City Country  Population\n",
       "0  Mumbai (Bombay)     IND    10500000\n",
       "1            Seoul     KOR     9981619\n",
       "2        São Paulo     BRA     9968485\n",
       "3         Shanghai     CHN     9696300\n",
       "4          Jakarta     IDN     9604900"
      ]
     },
     "execution_count": 5,
     "metadata": {},
     "output_type": "execute_result"
    }
   ],
   "source": [
    "# Create connection to mysql using configuration file\n",
    "db1 = mysql.connector.connect(option_files=\"/home/kishor/sql/nb/my.ini\", use_pure=True)\n",
    "\n",
    "#Query\n",
    "result = db1.cmd_query(\"\"\"SELECT Name, CountryCode, Population FROM world.city WHERE Population > 5000000\n",
    "      ORDER BY Population DESC\"\"\")\n",
    "\n",
    "# collect the rows limit to number of cities (10), \n",
    "(cities, eof) = db1.get_rows()\n",
    "\n",
    "# Print the rows of particular population > 5000000 in descendibng order\n",
    "print(\"\")\n",
    "print(\"\" + \"-\"*47)\n",
    "print(\"{0:15s}   {1:7s}   {2:3s}\".format(\"City\", \"        Country\", \"Population\"))\n",
    "print(\"\" + \"-\"*47)\n",
    "for city in cities:\n",
    "    print(\n",
    "    \"{0:23s}   {1:^7s}   {2:4.2f}\".format(\n",
    "      city[0],city[1],int(city[2])/1000000.0) )\n",
    "\n",
    "print(\"\" + \"-\"*47)\n",
    "\n",
    "# write database in to dataframe \n",
    "df = pd.DataFrame(cities, columns =[\"City\",\"Country\",\"Population\"])\n",
    "df.head()"
   ]
  },
  {
   "cell_type": "code",
   "execution_count": 6,
   "id": "585df8a8",
   "metadata": {},
   "outputs": [
    {
     "name": "stdout",
     "output_type": "stream",
     "text": [
      "\n",
      "City              Country   Population\n",
      "-----------------------------------------------\n",
      "Lahore              PAK      5.1\n",
      "Mumbai (Bombay)     IND     10.5\n",
      "Seoul               KOR     10.0\n",
      "São Paulo           BRA     10.0\n",
      "Shanghai            CHN      9.7\n",
      "Jakarta             IDN      9.6\n",
      "Karachi             PAK      9.3\n",
      "Istanbul            TUR      8.8\n",
      "Ciudad de México     MEX      8.6\n",
      "Moscow              RUS      8.4\n",
      "New York            USA      8.0\n",
      "Tokyo               JPN      8.0\n",
      "Peking              CHN      7.5\n",
      "London              GBR      7.3\n",
      "Delhi               IND      7.2\n",
      "Cairo               EGY      6.8\n",
      "Teheran             IRN      6.8\n",
      "Lima                PER      6.5\n",
      "Chongqing           CHN      6.4\n",
      "Bangkok             THA      6.3\n",
      "Santafé de Bogotá     COL      6.3\n",
      "Rio de Janeiro      BRA      5.6\n",
      "Tianjin             CHN      5.3\n",
      "Kinshasa            COD      5.1\n",
      "Lahore              PAK      5.1\n"
     ]
    }
   ],
   "source": [
    "# using cursor, can be instantiated\n",
    "cursor = db1.cursor()\n",
    "\n",
    "# Execute the query\n",
    "cursor.execute(\"\"\"SELECT Name, CountryCode, Population FROM world.city WHERE Population > 5000000\n",
    "      ORDER BY Population DESC\"\"\")\n",
    "\n",
    "print(\"\")\n",
    "print(\"{0:15s}   {1:7s}   {2:3s}\".format(\"City\", \"Country\", \"Population\")) \n",
    "print(\"\" + \"-\"*47)\n",
    "while (city):\n",
    "    print(\"{0:15s}   {1:^7s}   {2:4.1f}\".format(city[0],city[1],city[2]/1000000.0) )\n",
    "    city = cursor.fetchone()\n",
    "\n",
    "#cursor.close()"
   ]
  },
  {
   "cell_type": "code",
   "execution_count": null,
   "id": "c8baeb6f",
   "metadata": {},
   "outputs": [],
   "source": []
  }
 ],
 "metadata": {
  "kernelspec": {
   "display_name": "Python 3",
   "language": "python",
   "name": "python3"
  },
  "language_info": {
   "codemirror_mode": {
    "name": "ipython",
    "version": 3
   },
   "file_extension": ".py",
   "mimetype": "text/x-python",
   "name": "python",
   "nbconvert_exporter": "python",
   "pygments_lexer": "ipython3",
   "version": "3.6.9"
  }
 },
 "nbformat": 4,
 "nbformat_minor": 5
}
